{
  "nbformat": 4,
  "nbformat_minor": 0,
  "metadata": {
    "colab": {
      "provenance": []
    },
    "kernelspec": {
      "name": "python3",
      "display_name": "Python 3"
    },
    "language_info": {
      "name": "python"
    }
  },
  "cells": [
    {
      "cell_type": "code",
      "execution_count": 6,
      "metadata": {
        "colab": {
          "base_uri": "https://localhost:8080/"
        },
        "id": "iuc0f1dUSesD",
        "outputId": "d359f360-629c-48cb-f031-a5632920df04"
      },
      "outputs": [
        {
          "output_type": "stream",
          "name": "stdout",
          "text": [
            "Time taken to download HTML from https://www.spps.org/cms/lib/MN01910242/Centricity/Domain/859/Statistics%20Textbook.pdf: 0.209 seconds\n",
            "Time taken to download HTML from http://www.google.com: 0.050 seconds\n",
            "Time taken to download HTML from https://speech.ee.ntu.edu.tw/~tlkagk/courses/ML_2019/Lecture/BERT%20(v3).pptx: 7.498 seconds\n"
          ]
        }
      ],
      "source": [
        "import requests\n",
        "import time\n",
        "import dns.resolver\n",
        "\n",
        "def clear_dns_cache():\n",
        "    dns.resolver.Cache().flush()\n",
        "\n",
        "def download_html(url):\n",
        "    clear_dns_cache()\n",
        "    start_time = time.monotonic()\n",
        "    response = requests.get(url)\n",
        "    end_time = time.monotonic()\n",
        "    html = response.text\n",
        "    return end_time - start_time, html\n",
        "\n",
        "def main():\n",
        "    urls = ['https://www.spps.org/cms/lib/MN01910242/Centricity/Domain/859/Statistics%20Textbook.pdf', 'http://www.google.com', 'https://speech.ee.ntu.edu.tw/~tlkagk/courses/ML_2019/Lecture/BERT%20(v3).pptx']\n",
        "    for url in urls:\n",
        "        response_time, html = download_html(url)\n",
        "        print(f\"Time taken to download HTML from {url}: {response_time:.3f} seconds\")\n",
        "\n",
        "if __name__ == '__main__':\n",
        "    main()\n"
      ]
    },
    {
      "cell_type": "code",
      "source": [],
      "metadata": {
        "id": "Jfqghn-uTQyt"
      },
      "execution_count": null,
      "outputs": []
    }
  ]
}